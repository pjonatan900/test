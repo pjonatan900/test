{
  "metadata": {
    "language_info": {
      "codemirror_mode": {
        "name": "python",
        "version": 3
      },
      "file_extension": ".py",
      "mimetype": "text/x-python",
      "name": "python",
      "nbconvert_exporter": "python",
      "pygments_lexer": "ipython3",
      "version": "3.8"
    },
    "kernelspec": {
      "name": "python",
      "display_name": "Python (Pyodide)",
      "language": "python"
    }
  },
  "nbformat_minor": 4,
  "nbformat": 4,
  "cells": [
    {
      "cell_type": "markdown",
      "source": "# Data Science Tools and Ecosystem",
      "metadata": {}
    },
    {
      "cell_type": "markdown",
      "source": "## In this notebook, Data Science Tools and Ecosystem are summarized.\n\n\n",
      "metadata": {}
    },
    {
      "cell_type": "markdown",
      "source": "## Objetives\n\n- **MATLAB**\n- **SQL**\n- **PYTHON**",
      "metadata": {}
    },
    {
      "cell_type": "markdown",
      "source": "### Some of the popular languages that Data Scientists use are:\n - Python\n - Java\n - R",
      "metadata": {}
    },
    {
      "cell_type": "markdown",
      "source": "### Some of the commonly used libraries used by Data Scientists include:\n\n - Numphy\n - Pandas\n - TensorFlow",
      "metadata": {}
    },
    {
      "cell_type": "markdown",
      "source": "| Data Science Tools |\n|------------|\n|Python|\n|R|\n|Hadoop|",
      "metadata": {}
    },
    {
      "cell_type": "markdown",
      "source": "### Below are a few examples of evaluating arithmetic expressions in Python.\n\n",
      "metadata": {}
    },
    {
      "cell_type": "code",
      "source": "one = 5\ntwo = 6\nprint(one + two)",
      "metadata": {
        "trusted": true
      },
      "execution_count": 5,
      "outputs": [
        {
          "name": "stdout",
          "text": "11\n",
          "output_type": "stream"
        }
      ]
    },
    {
      "cell_type": "markdown",
      "source": "### his a simple arithmetic expression to mutiply then add integers.",
      "metadata": {}
    },
    {
      "cell_type": "code",
      "source": "one = 3\ntwo = 4\nthree = 5\nprint((one * two) + three)\n",
      "metadata": {
        "trusted": true
      },
      "execution_count": 7,
      "outputs": [
        {
          "name": "stdout",
          "text": "17\n",
          "output_type": "stream"
        }
      ]
    },
    {
      "cell_type": "markdown",
      "source": "### This will convert 200 minutes to hours by diving by 60.",
      "metadata": {}
    },
    {
      "cell_type": "code",
      "source": "minute = 200\nprint (minute/60)",
      "metadata": {
        "trusted": true
      },
      "execution_count": 8,
      "outputs": [
        {
          "name": "stdout",
          "text": "3.3333333333333335\n",
          "output_type": "stream"
        }
      ]
    },
    {
      "cell_type": "markdown",
      "source": "## AUTHOR: JONATAN PUMA",
      "metadata": {}
    },
    {
      "cell_type": "code",
      "source": "",
      "metadata": {},
      "execution_count": null,
      "outputs": []
    }
  ]
}